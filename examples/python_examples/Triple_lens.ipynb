{
 "cells": [
  {
   "cell_type": "code",
   "execution_count": 1,
   "id": "c0fef4ce-128d-46c3-b212-e87e720516d4",
   "metadata": {},
   "outputs": [],
   "source": [
    "import numpy as np\n",
    "from matplotlib import pyplot as plt\n",
    "import matplotlib as mpl\n",
    "import VBMicrolensing\n",
    "\n",
    "mpl.rc('font',**{'family':'serif','serif':['Palatino']})\n",
    "mpl.rc('text', usetex=True)\n",
    "mpl.rcParams['axes.labelsize'] = 20\n",
    "mpl.rcParams['xtick.labelsize'] = 20\n",
    "mpl.rcParams['ytick.labelsize'] = 20\n",
    "mpl.rcParams['axes.titlesize'] = 20\n",
    "\n",
    "%matplotlib inline\n",
    "\n",
    "# Better looking figures\n",
    "%config InlineBackend.figure_format = 'retina'"
   ]
  },
  {
   "cell_type": "code",
   "execution_count": 2,
   "id": "dd27fb85-9b85-4f17-b06b-c1b61f5296fc",
   "metadata": {},
   "outputs": [],
   "source": [
    "# Initialize VBBinaryLensing() class object, set relative accuracy\n",
    "VBM = VBMicrolensing.VBMicrolensing()\n",
    "VBM.RelTol = 1e-03"
   ]
  },
  {
   "cell_type": "code",
   "execution_count": 3,
   "id": "cc5e30c0-dfe2-41c5-af20-127e0bdbc72f",
   "metadata": {},
   "outputs": [
    {
     "ename": "AttributeError",
     "evalue": "module 'VBMicrolensing' has no attribute 'Algorithm'",
     "output_type": "error",
     "traceback": [
      "\u001b[1;31m---------------------------------------------------------------------------\u001b[0m",
      "\u001b[1;31mAttributeError\u001b[0m                            Traceback (most recent call last)",
      "\u001b[1;32m~\\AppData\\Local\\Temp\\ipykernel_25072\\1085923830.py\u001b[0m in \u001b[0;36m<module>\u001b[1;34m\u001b[0m\n\u001b[0;32m      8\u001b[0m \u001b[0mToll\u001b[0m\u001b[1;33m=\u001b[0m\u001b[1;36m0.001\u001b[0m\u001b[1;33m\u001b[0m\u001b[1;33m\u001b[0m\u001b[0m\n\u001b[0;32m      9\u001b[0m \u001b[1;33m\u001b[0m\u001b[0m\n\u001b[1;32m---> 10\u001b[1;33m \u001b[0mVBM\u001b[0m\u001b[1;33m.\u001b[0m\u001b[0mSelectedAlgorithm\u001b[0m \u001b[1;33m=\u001b[0m \u001b[0mVBMicrolensing\u001b[0m\u001b[1;33m.\u001b[0m\u001b[0mAlgorithm\u001b[0m\u001b[1;33m.\u001b[0m\u001b[0mNopoly\u001b[0m\u001b[1;33m\u001b[0m\u001b[1;33m\u001b[0m\u001b[0m\n\u001b[0m\u001b[0;32m     11\u001b[0m \u001b[0mVBM\u001b[0m\u001b[1;33m.\u001b[0m\u001b[0mSetLensGeometry\u001b[0m\u001b[1;33m(\u001b[0m\u001b[0mnn\u001b[0m\u001b[1;33m,\u001b[0m\u001b[0mq\u001b[0m\u001b[1;33m,\u001b[0m\u001b[0ms\u001b[0m\u001b[1;33m)\u001b[0m\u001b[1;33m\u001b[0m\u001b[1;33m\u001b[0m\u001b[0m\n\u001b[0;32m     12\u001b[0m \u001b[0mmag\u001b[0m \u001b[1;33m=\u001b[0m \u001b[0mVBM\u001b[0m\u001b[1;33m.\u001b[0m\u001b[0mMultiMag\u001b[0m\u001b[1;33m(\u001b[0m\u001b[0my\u001b[0m\u001b[1;33m,\u001b[0m\u001b[0mrho\u001b[0m\u001b[1;33m,\u001b[0m\u001b[0mToll\u001b[0m\u001b[1;33m)\u001b[0m\u001b[1;33m\u001b[0m\u001b[1;33m\u001b[0m\u001b[0m\n",
      "\u001b[1;31mAttributeError\u001b[0m: module 'VBMicrolensing' has no attribute 'Algorithm'"
     ]
    }
   ],
   "source": [
    "t  =  np.linspace(7000, 7300, 500)\n",
    "\n",
    "nn=3\n",
    "y=(0.1, 0.04)\n",
    "s = [(0., 0.), (1., -0.7), (2, 0.7)] # separation between the two lenses in units of total ang. Einstein radii\n",
    "q = [1.,1.e-1,1.1e-4] # mass ratio: mass of the lens on the right divided by mass of the lens on the left\n",
    "rho = 0.01 # source radius in Einstein radii of the total mass.\n",
    "Toll=0.001\n",
    "\n",
    "VBM.SelectedAlgorithm = VBMicrolensing.Algorithm.Nopoly\n",
    "VBM.SetLensGeometry(nn,q,s)\n",
    "mag = VBM.MultiMag(y,rho,Toll)"
   ]
  },
  {
   "cell_type": "code",
   "execution_count": null,
   "id": "72e45098-94c8-472d-936c-dd8bd9bd5ab6",
   "metadata": {},
   "outputs": [],
   "source": [
    "?VBM.SelectedAlgorithm"
   ]
  },
  {
   "cell_type": "code",
   "execution_count": null,
   "id": "c4b04587-7a7e-4f64-b445-4f3d094b1f45",
   "metadata": {},
   "outputs": [],
   "source": []
  }
 ],
 "metadata": {
  "kernelspec": {
   "display_name": "Python 3 (ipykernel)",
   "language": "python",
   "name": "python3"
  },
  "language_info": {
   "codemirror_mode": {
    "name": "ipython",
    "version": 3
   },
   "file_extension": ".py",
   "mimetype": "text/x-python",
   "name": "python",
   "nbconvert_exporter": "python",
   "pygments_lexer": "ipython3",
   "version": "3.9.13"
  }
 },
 "nbformat": 4,
 "nbformat_minor": 5
}
