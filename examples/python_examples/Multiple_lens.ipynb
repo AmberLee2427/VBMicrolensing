{
 "cells": [
  {
   "cell_type": "markdown",
   "id": "eaeae554-4aab-4ca8-9524-a0caf7133a31",
   "metadata": {},
   "source": [
    "# <span style=\"color:red\">VBMicrolensing</span>"
   ]
  },
  {
   "cell_type": "markdown",
   "id": "8be5f215-60c4-4622-81d6-3d75d6d016cd",
   "metadata": {},
   "source": [
    "# Head"
   ]
  },
  {
   "cell_type": "code",
   "execution_count": 1,
   "id": "776ec6b1-151e-4738-ba22-5172069a4447",
   "metadata": {},
   "outputs": [],
   "source": [
    "import numpy as np\n",
    "from matplotlib import pyplot as plt\n",
    "import matplotlib as mpl\n",
    "import VBMicrolensing\n",
    "\n",
    "mpl.rc('font',**{'family':'serif','serif':['Palatino']})\n",
    "mpl.rc('text', usetex=True)\n",
    "mpl.rcParams['axes.labelsize'] = 20\n",
    "mpl.rcParams['xtick.labelsize'] = 20\n",
    "mpl.rcParams['ytick.labelsize'] = 20\n",
    "mpl.rcParams['axes.titlesize'] = 20\n",
    "\n",
    "%matplotlib inline\n",
    "\n",
    "# Better looking figures\n",
    "%config InlineBackend.figure_format = 'retina'"
   ]
  },
  {
   "cell_type": "markdown",
   "id": "a5602e9e-88b3-42c2-9ed3-49b946a6b68f",
   "metadata": {},
   "source": [
    "# Initialize"
   ]
  },
  {
   "cell_type": "code",
   "execution_count": 2,
   "id": "9c981ae2-e81f-440c-a06b-46e372b2a884",
   "metadata": {},
   "outputs": [],
   "source": [
    "# Initialize VBMicrolensing() class object\n",
    "VBM = VBMicrolensing.VBMicrolensing()\n",
    "#Set relative accuracy\n",
    "VBM.RelTol = 1e-03\n",
    "#Set accuracy\n",
    "VBM.Tol=1e-03"
   ]
  },
  {
   "cell_type": "markdown",
   "id": "0e729530-cf0d-4564-8b45-0ebef998cb51",
   "metadata": {},
   "source": [
    "# System Configuration"
   ]
  },
  {
   "cell_type": "code",
   "execution_count": 3,
   "id": "d55eb322-5e3a-4872-9f06-59c47f9662b5",
   "metadata": {},
   "outputs": [
    {
     "ename": "TypeError",
     "evalue": "SetLensGeometry(): incompatible function arguments. The following argument types are supported:\n    1. (self: VBMicrolensing.VBMicrolensing.VBMicrolensing, arg0: int, arg1: float, arg2: complex) -> None\n\nInvoked with: <VBMicrolensing.VBMicrolensing.VBMicrolensing object at 0x0000025E5CD009F0>, 4, array([1.0e+00, 1.0e-01, 1.1e-04, 1.1e-06]), array([0. , 1. , 2. , 0.6]), array([ 0. , -0.7,  0.7, -0.6])",
     "output_type": "error",
     "traceback": [
      "\u001b[1;31m---------------------------------------------------------------------------\u001b[0m",
      "\u001b[1;31mTypeError\u001b[0m                                 Traceback (most recent call last)",
      "Input \u001b[1;32mIn [3]\u001b[0m, in \u001b[0;36m<cell line: 27>\u001b[1;34m()\u001b[0m\n\u001b[0;32m     25\u001b[0m VBM\u001b[38;5;241m.\u001b[39mSetMethod(VBM\u001b[38;5;241m.\u001b[39mMethod\u001b[38;5;241m.\u001b[39mSinglepoly)\n\u001b[0;32m     26\u001b[0m \u001b[38;5;66;03m#Call the SetLensGeometry\u001b[39;00m\n\u001b[1;32m---> 27\u001b[0m \u001b[43mVBM\u001b[49m\u001b[38;5;241;43m.\u001b[39;49m\u001b[43mSetLensGeometry\u001b[49m\u001b[43m(\u001b[49m\u001b[43mnlens\u001b[49m\u001b[43m,\u001b[49m\u001b[43m \u001b[49m\u001b[43mq_array\u001b[49m\u001b[43m,\u001b[49m\u001b[43m \u001b[49m\u001b[43ms1_array\u001b[49m\u001b[43m,\u001b[49m\u001b[43m \u001b[49m\u001b[43ms2_array\u001b[49m\u001b[43m)\u001b[49m\n",
      "\u001b[1;31mTypeError\u001b[0m: SetLensGeometry(): incompatible function arguments. The following argument types are supported:\n    1. (self: VBMicrolensing.VBMicrolensing.VBMicrolensing, arg0: int, arg1: float, arg2: complex) -> None\n\nInvoked with: <VBMicrolensing.VBMicrolensing.VBMicrolensing object at 0x0000025E5CD009F0>, 4, array([1.0e+00, 1.0e-01, 1.1e-04, 1.1e-06]), array([0. , 1. , 2. , 0.6]), array([ 0. , -0.7,  0.7, -0.6])"
     ]
    }
   ],
   "source": [
    "#Number of lenses in the system\n",
    "nlens=4 \n",
    "\n",
    "#Source position\n",
    "y=(0.1, 0.04)\n",
    "\n",
    "#Positions in the complex plane\n",
    "s = [(0., 0.), (1., -0.7), (2., 0.7), (0.6, -0.6)]\n",
    "\n",
    "# lens mass\n",
    "q = [1.,1.e-1,1.1e-4,1.1e-6] \n",
    "\n",
    "# source radius in Einstein radii of the total mass.\n",
    "rho = 0.01 \n",
    "\n",
    "##############################################\n",
    "real_part = [x[0] for x in s] \n",
    "imaginary_part = [x[1] for x in s]\n",
    "q_array = np.array(q, dtype=float)\n",
    "s1_array = np.array(real_part, dtype=float)\n",
    "s2_array = np.array(imaginary_part, dtype=float)\n",
    "##############################################\n",
    "\n",
    "# Set the Method that you want use : Singlepoly, Multipoly, Nopoly.\n",
    "VBM.SetMethod(VBM.Method.Singlepoly)\n",
    "#Call the SetLensGeometry\n",
    "VBM.SetLensGeometry(nlens, q_array, s1_array, s2_array)"
   ]
  },
  {
   "cell_type": "markdown",
   "id": "f0926260-7693-4ec2-9fac-b5385f5fda3f",
   "metadata": {},
   "source": [
    "# Light Curve"
   ]
  },
  {
   "cell_type": "code",
   "execution_count": null,
   "id": "3810fbce-787c-44c4-9935-e09f5018c7e4",
   "metadata": {},
   "outputs": [],
   "source": [
    "nl=4 #Number of lens\n",
    "\n",
    "t0 = 0.\n",
    "tE=0.5\n",
    "rho=0.003\n",
    "\n",
    "#positions\n",
    "s1_im=0.\n",
    "s2_n=((1.0,-0.7),(2.0,0.7),(0.6,-0.6))\n",
    "q2_n = (1.0e-1, 1.1e-4, 1.1e-6)\n",
    "\n",
    "num_points = 300\n",
    "tmin = -50\n",
    "tmax = 50\n",
    "t = np.linspace(t0 + tmin, t0 + tmax, num_points)\n",
    "\n",
    "params = [t0, np.log(tE), np.log(rho), s1_im]\n",
    "\n",
    "params.extend([subtuple[0] for subtuple in s2_n])\n",
    "params.extend([subtuple[1] for subtuple in s2_n])\n",
    "params.extend(q2_n)\n",
    "\n",
    "mag=VBM.LightCurve(params,t,nl)"
   ]
  },
  {
   "cell_type": "code",
   "execution_count": null,
   "id": "943c5d22-9fee-4481-bf1c-926c5fd0bd30",
   "metadata": {},
   "outputs": [],
   "source": [
    "# Calculate the cirtical curves and the caustic curves\n",
    "solutions = VBM.PlotCrit() # Returns _sols object containing n crit. curves followed by n caustic curves\n",
    "print(type(solutions))"
   ]
  },
  {
   "cell_type": "code",
   "execution_count": null,
   "id": "daab8d0e-cc77-4221-ba8f-253d4e066e1c",
   "metadata": {},
   "outputs": [],
   "source": [
    "# generator function iterating over _sols, _curve, or _point objects \n",
    "# making use of the next keyword\n",
    "def iterate_from(item):\n",
    "    while item is not None:\n",
    "        yield item\n",
    "        item = item.next\n",
    "\n",
    "curves = []\n",
    "for curve in iterate_from(solutions.first):\n",
    "    for point in iterate_from(curve.first):\n",
    "        curves.append((point.x1, point.x2))\n",
    "        \n",
    "critical_curves = np.array(curves[:int(len(curves)/2)])\n",
    "caustic_curves = np.array(curves[int(len(curves)/2):])"
   ]
  },
  {
   "cell_type": "code",
   "execution_count": null,
   "id": "3bb6b485-fe80-4897-9cf0-1e790d85a86c",
   "metadata": {},
   "outputs": [],
   "source": [
    "fig, ax = plt.subplots(figsize=(12,7))\n",
    "ax.plot(t, mag[0], 'k-')\n",
    "ax.grid(True)\n",
    "\n",
    "ax2 = fig.add_axes([.54, .44, .4, .4], aspect=1)\n",
    "ax2.plot(caustic_curves[:, 0], caustic_curves[:, 1], 'k-')\n",
    "ax2.plot(mag[1], mag[2], 'k--')\n",
    "ax2.grid(True)\n",
    "ax2.set_xlim(-1.,1.)\n",
    "ax2.set_ylim(-1.,1.)"
   ]
  }
 ],
 "metadata": {
  "kernelspec": {
   "display_name": "Python 3 (ipykernel)",
   "language": "python",
   "name": "python3"
  },
  "language_info": {
   "codemirror_mode": {
    "name": "ipython",
    "version": 3
   },
   "file_extension": ".py",
   "mimetype": "text/x-python",
   "name": "python",
   "nbconvert_exporter": "python",
   "pygments_lexer": "ipython3",
   "version": "3.9.13"
  }
 },
 "nbformat": 4,
 "nbformat_minor": 5
}
